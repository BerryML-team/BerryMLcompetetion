{
 "cells": [
  {
   "cell_type": "markdown",
   "metadata": {},
   "source": [
    "---\n",
    "### Description :  예선 1차 데이터 Quick Test  \n",
    "### Author : forrest Park \n",
    "\n"
   ]
  },
  {
   "cell_type": "code",
   "execution_count": 1,
   "metadata": {},
   "outputs": [
    {
     "name": "stdout",
     "output_type": "stream",
     "text": [
      "\u001b[93mcolumn 수 : 47\u001b[0m\n"
     ]
    }
   ],
   "source": [
    "import pandas as pd ,sys,os\n",
    "sys.path.append(\"../../Functions/\")\n",
    "from Function import Service\n",
    "\n",
    "from Function_test import DataPreprocessing as DI\n",
    "input_data = pd.read_csv('../../Data/2023_smartFarm_AI_hackathon_dataset.csv')\n",
    "input_data.tail()\n",
    "# Service.dataInfoProcessing(input_data)\n",
    "DI.dataInfo(input_data)\n",
    "\n"
   ]
  },
  {
   "cell_type": "code",
   "execution_count": 6,
   "metadata": {},
   "outputs": [
    {
     "name": "stdout",
     "output_type": "stream",
     "text": [
      "<class 'pandas.core.frame.DataFrame'>\n",
      "RangeIndex: 84840 entries, 0 to 84839\n",
      "Data columns (total 47 columns):\n",
      " #   Column                     Non-Null Count  Dtype  \n",
      "---  ------                     --------------  -----  \n",
      " 0   frmDist                    84840 non-null  object \n",
      " 1   date                       84840 non-null  int64  \n",
      " 2   inTp                       84840 non-null  float64\n",
      " 3   inHd                       84840 non-null  float64\n",
      " 4   otmsuplyqy                 84840 non-null  float64\n",
      " 5   acSlrdQy                   84840 non-null  float64\n",
      " 6   cunt                       84840 non-null  float64\n",
      " 7   ph                         84840 non-null  float64\n",
      " 8   outTp                      84840 non-null  float64\n",
      " 9   outWs                      84840 non-null  float64\n",
      " 10  daysuplyqy                 84840 non-null  float64\n",
      " 11  inCo2                      84840 non-null  float64\n",
      " 12  ec                         84840 non-null  float64\n",
      " 13  frmYear                    84840 non-null  int64  \n",
      " 14  frmWeek                    84840 non-null  int64  \n",
      " 15  frtstGrupp                 84840 non-null  float64\n",
      " 16  lefstalklt                 84840 non-null  float64\n",
      " 17  frtstSetCo                 84840 non-null  float64\n",
      " 18  pllnLt                     84840 non-null  float64\n",
      " 19  flanGrupp                  84840 non-null  float64\n",
      " 20  frtstCo                    84840 non-null  float64\n",
      " 21  flanJnt                    84840 non-null  float64\n",
      " 22  tcdmt                      84840 non-null  float64\n",
      " 23  frmhsFclu                  84840 non-null  float64\n",
      " 24  hvstGrupp                  84840 non-null  float64\n",
      " 25  hvstJnt                    84840 non-null  float64\n",
      " 26  grwtLt                     84840 non-null  float64\n",
      " 27  fcluHg                     84840 non-null  float64\n",
      " 28  lefLt                      84840 non-null  float64\n",
      " 29  flwrCo                     84840 non-null  float64\n",
      " 30  hvstCo                     84840 non-null  float64\n",
      " 31  lefCunt                    84840 non-null  float64\n",
      " 32  frtstJnt                   84840 non-null  float64\n",
      " 33  lefBt                      84840 non-null  float64\n",
      " 34  stemThck                   84840 non-null  float64\n",
      " 35  frmAr                      84840 non-null  int64  \n",
      " 36  frmDov                     84840 non-null  float64\n",
      " 37  outtrn_cumsum              84840 non-null  float64\n",
      " 38  WaterUsage                 84840 non-null  float64\n",
      " 39  WaterCost                  84840 non-null  float64\n",
      " 40  FertilizerUsage            84840 non-null  float64\n",
      " 41  FertilizerCost             84840 non-null  float64\n",
      " 42  CO2Usage                   84840 non-null  float64\n",
      " 43  CO2Cost                    84840 non-null  float64\n",
      " 44  MistUsageTime              84840 non-null  float64\n",
      " 45  Mist Cost                  84840 non-null  float64\n",
      " 46  HeatingEnergyUsage_cumsum  84840 non-null  float64\n",
      "dtypes: float64(42), int64(4), object(1)\n",
      "memory usage: 30.4+ MB\n"
     ]
    }
   ],
   "source": [
    "input_data.info()"
   ]
  },
  {
   "cell_type": "code",
   "execution_count": null,
   "metadata": {},
   "outputs": [],
   "source": []
  }
 ],
 "metadata": {
  "kernelspec": {
   "display_name": "base",
   "language": "python",
   "name": "python3"
  },
  "language_info": {
   "codemirror_mode": {
    "name": "ipython",
    "version": 3
   },
   "file_extension": ".py",
   "mimetype": "text/x-python",
   "name": "python",
   "nbconvert_exporter": "python",
   "pygments_lexer": "ipython3",
   "version": "3.11.7"
  }
 },
 "nbformat": 4,
 "nbformat_minor": 2
}
