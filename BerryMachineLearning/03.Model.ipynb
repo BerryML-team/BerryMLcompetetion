{
 "cells": [
  {
   "cell_type": "markdown",
   "metadata": {},
   "source": [
    "---\n",
    "#### final data 로 ml 학습 \n"
   ]
  },
  {
   "cell_type": "code",
   "execution_count": 13,
   "metadata": {},
   "outputs": [
    {
     "name": "stdout",
     "output_type": "stream",
     "text": [
      "\u001b[1m\u001b[92m___ 🟡 PLOTSETTING. \u001b[0m\n",
      "\u001b[93m______ 📌 matplotlibn plot 한글화 Setting\u001b[0m\n",
      "\u001b[95m___## OS platform 한글 세팅완료 ## ___\u001b[0m\n"
     ]
    }
   ],
   "source": [
    "#### Jupyter Basic Setting ####\n",
    "import pandas as pd,numpy as np\n",
    "import matplotlib.pyplot as plt,seaborn as sns  # 시각화\n",
    "import warnings; warnings.filterwarnings('ignore')  # 경고 무시\n",
    "import sys,os\n",
    "from pprint import pprint \n",
    "parent_dir = os.path.dirname(os.getcwd())\n",
    "parent_dir = os.path.dirname(parent_dir)\n",
    "sys.path.append(parent_dir)\n",
    "from Functions import Service as S\n",
    "# 기본 세팅\n",
    "S.plotSetting(\"seaborn-v0_8\")\n",
    "def blue(str):return S.colored_text(str,'blue')\n",
    "def yellow(str):return S.colored_text(str,'yellow')\n",
    "def red(str):return S.colored_text(str,'red')\n",
    "def green(str):return S.colored_text(str,'green')\n"
   ]
  },
  {
   "cell_type": "code",
   "execution_count": 8,
   "metadata": {},
   "outputs": [],
   "source": [
    "import pandas as pd \n",
    "data =pd.read_csv('./Data/final.csv')"
   ]
  },
  {
   "cell_type": "code",
   "execution_count": 9,
   "metadata": {},
   "outputs": [
    {
     "data": {
      "text/plain": [
       "Index(['Unnamed: 0', '시설아이디', 'weeks', '조사일자', '표본번호', '관부직경', '엽병장', '엽수',\n",
       "       '엽장', '엽폭', '개화수', '초장', '최종화방차수', '화방 꽃수(소화수)', 'supplyEC', 'supplyPH',\n",
       "       'innerCO2', 'innerHum', 'innerTemp', 'innerSolar', 'CO2'],\n",
       "      dtype='object')"
      ]
     },
     "execution_count": 9,
     "metadata": {},
     "output_type": "execute_result"
    }
   ],
   "source": [
    "data.columns"
   ]
  },
  {
   "cell_type": "code",
   "execution_count": 10,
   "metadata": {},
   "outputs": [],
   "source": [
    "input_cols =['weeks','supplyEC', 'supplyPH',\n",
    "       'innerCO2', 'innerHum', 'innerTemp', 'innerSolar', 'CO2']\n",
    "output_cols = ['관부직경', '엽병장', '엽수',\n",
    "       '엽장', '엽폭', '개화수', '초장', '최종화방차수', '화방 꽃수(소화수)']\n",
    "training_table = data.loc[:,input_cols]\n",
    "target_table= data.loc[:,output_cols]"
   ]
  },
  {
   "cell_type": "code",
   "execution_count": 40,
   "metadata": {},
   "outputs": [
    {
     "name": "stdout",
     "output_type": "stream",
     "text": [
      "\u001b[93mLinear regression model RMSE: 21.18\u001b[0m\n",
      "\t  \u001b[91mLR cv score : [22.05600421 24.51390061 21.83705362 23.80306472 23.71399793 24.97807162\n",
      " 22.20998485 22.53543424 25.11786173 26.24846072]\u001b[0m\n",
      "\t  \u001b[92mLR cv RMSE  average : 23.70\u001b[0m\n",
      "\u001b[93mKNN(3) regression model RMSE: 17.47\u001b[0m\n",
      "\t  \u001b[91mKNN cv score : [18.10011084 19.95352427 18.58673623 20.51931024 19.53426041 19.86191078\n",
      " 15.52137237 18.21313466 19.47105055 20.54933287]\u001b[0m\n",
      "\t  \u001b[92mKNN cv RMSE average : 19.03\u001b[0m\n",
      "\u001b[93mXGBoost(3) regression model RMSE: 15.76\u001b[0m\n",
      "\t  \u001b[91mXGB cv score : [16.74510659 19.18668642 16.8309619  19.56155071 18.08791345 18.10144571\n",
      " 15.25446328 17.02666954 17.84773678 19.01419169]\u001b[0m\n",
      "\t  \u001b[92mXGB cv RMSE average : 17.77\u001b[0m\n"
     ]
    }
   ],
   "source": [
    "import pandas as pd\n",
    "import numpy as np\n",
    "import matplotlib.pyplot as plt\n",
    "from sklearn.model_selection import train_test_split\n",
    "from sklearn.multioutput import MultiOutputRegressor\n",
    "from sklearn.neighbors import KNeighborsRegressor\n",
    "from sklearn.linear_model import LinearRegression\n",
    "from sklearn.metrics import mean_squared_error\n",
    "from xgboost import XGBRegressor\n",
    "\n",
    "from sklearn.model_selection import cross_val_score\n",
    "\n",
    "\n",
    "# 예시 데이터 (training_table과 target_table이 이미 존재한다고 가정)\n",
    "# training_table = pd.DataFrame(...)\n",
    "# target_table = pd.DataFrame(...)\n",
    "\n",
    "# 데이터 분할\n",
    "train_input, test_input, train_target, test_target = \\\n",
    "    train_test_split(training_table,\n",
    "                     target_table, \n",
    "                     test_size=0.2,\n",
    "                     random_state=42)\n",
    "\n",
    "def linear_regressor_prdict():\n",
    "    ## Linear Regression model 비교\n",
    "    lin_regressor = LinearRegression()\n",
    "    multi_output_regressor_lin = MultiOutputRegressor(lin_regressor)\n",
    "    multi_output_regressor_lin.fit(train_input, train_target)\n",
    "    y_pred_lin = multi_output_regressor_lin.predict(test_input)\n",
    "    mse = mean_squared_error(test_target, y_pred_lin)\n",
    "    rmse = np.sqrt(mse)\n",
    "    \n",
    "    #### 교차검증 \n",
    "    scores_cv = cross_val_score(multi_output_regressor_lin,train_input,train_target,scoring='neg_mean_squared_error',cv=10)\n",
    "    rmse_cv = np.sqrt(-scores_cv)\n",
    "    print(yellow(f\"Linear regression model RMSE: {rmse:.2f}\"))\n",
    "    print(\"\\t \",red(f\"LR cv score : {rmse_cv}\"))\n",
    "    print(\"\\t \",green(f\"LR cv RMSE  average : {rmse_cv.mean():.2f}\"))\n",
    "linear_regressor_prdict()\n",
    "def knn_regressor_predict():\n",
    "    ## KNN regression model\n",
    "    knn_regressor = KNeighborsRegressor(n_neighbors=3)\n",
    "    ## Multi Output Setting\n",
    "    multi_output_regressor_knn = MultiOutputRegressor(knn_regressor)\n",
    "    multi_output_regressor_knn.fit(train_input, train_target)\n",
    "\n",
    "    score = multi_output_regressor_knn.score(test_input, test_target)\n",
    "    y_pred_knn = multi_output_regressor_knn.predict(test_input)\n",
    "    mse = mean_squared_error(test_target, y_pred_knn)\n",
    "    rmse = np.sqrt(mse)\n",
    "    # print(yellow(f'KNN(3) regression model score: {score}'))\n",
    "    print(yellow(f'KNN(3) regression model RMSE: {rmse:.2f}'))\n",
    "    #### 교차검증 \n",
    "    scores_cv = cross_val_score(multi_output_regressor_knn,train_input,train_target,scoring='neg_mean_squared_error',cv=10)\n",
    "    rmse_cv = np.sqrt(-scores_cv)\n",
    "    print(\"\\t \",red(f\"KNN cv score : {rmse_cv}\"))\n",
    "    print(\"\\t \",green(f\"KNN cv RMSE average : {rmse_cv.mean():.2f}\"))\n",
    "\n",
    "    predictions = multi_output_regressor_knn.predict(test_input)\n",
    "\n",
    "knn_regressor_predict()\n",
    "def xgboost_regressor_predict():\n",
    "    xg_reg = XGBRegressor()\n",
    "    multi_output_regressor_knn = MultiOutputRegressor(xg_reg)\n",
    "    multi_output_regressor_knn.fit(train_input, train_target)\n",
    "\n",
    "    score = multi_output_regressor_knn.score(test_input, test_target)\n",
    "    y_pred_xg = multi_output_regressor_knn.predict(test_input)\n",
    "    mse = mean_squared_error(test_target, y_pred_xg)\n",
    "    rmse = np.sqrt(mse)\n",
    "    # print(yellow(f'KNN(3) regression model score: {score}'))\n",
    "    print(yellow(f'XGBoost(3) regression model RMSE: {rmse:.2f}'))\n",
    "    ### 교찯검증\n",
    "    scores_cv = cross_val_score(multi_output_regressor_knn,train_input,train_target,scoring='neg_mean_squared_error',cv=10)\n",
    "    rmse_cv = np.sqrt(-scores_cv)\n",
    "    print(\"\\t \",red(f\"XGB cv score : {rmse_cv}\"))\n",
    "    print(\"\\t \",green(f\"XGB cv RMSE average : {rmse_cv.mean():.2f}\"))\n",
    "xgboost_regressor_predict()"
   ]
  },
  {
   "cell_type": "markdown",
   "metadata": {},
   "source": [
    "---\n",
    "### XG boost modeling "
   ]
  },
  {
   "cell_type": "code",
   "execution_count": 12,
   "metadata": {},
   "outputs": [
    {
     "name": "stdout",
     "output_type": "stream",
     "text": [
      "macOS-14.5-arm64-arm-64bit\n",
      "3.11.7 (main, Dec 15 2023, 12:09:56) [Clang 14.0.6 ]\n",
      "Scikit-Learn 1.2.2\n",
      "XGBoost 2.0.3\n"
     ]
    }
   ],
   "source": [
    "import platform; print(platform.platform())\n",
    "import sys; print(sys.version)\n",
    "import sklearn; print(\"Scikit-Learn\", sklearn.__version__)\n",
    "import xgboost; print(\"XGBoost\", xgboost.__version__)"
   ]
  }
 ],
 "metadata": {
  "kernelspec": {
   "display_name": "base",
   "language": "python",
   "name": "python3"
  },
  "language_info": {
   "codemirror_mode": {
    "name": "ipython",
    "version": 3
   },
   "file_extension": ".py",
   "mimetype": "text/x-python",
   "name": "python",
   "nbconvert_exporter": "python",
   "pygments_lexer": "ipython3",
   "version": "3.11.7"
  }
 },
 "nbformat": 4,
 "nbformat_minor": 2
}
