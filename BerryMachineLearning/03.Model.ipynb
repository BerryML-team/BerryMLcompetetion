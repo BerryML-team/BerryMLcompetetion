{
 "cells": [
  {
   "cell_type": "markdown",
   "metadata": {},
   "source": [
    "---\n",
    "#### final data 로 ml 학습 \n"
   ]
  },
  {
   "cell_type": "code",
   "execution_count": 4,
   "metadata": {},
   "outputs": [],
   "source": [
    "import pandas as pd \n",
    "data =pd.read_csv('./Data/final.csv')"
   ]
  },
  {
   "cell_type": "code",
   "execution_count": 8,
   "metadata": {},
   "outputs": [
    {
     "data": {
      "text/plain": [
       "Index(['Unnamed: 0', '시설아이디', 'weeks', '조사일자', '표본번호', '관부직경', '엽병장', '엽수',\n",
       "       '엽장', '엽폭', '개화수', '초장', '최종화방차수', '화방 꽃수(소화수)', 'supplyEC', 'supplyPH',\n",
       "       'innerCO2', 'innerHum', 'innerTemp', 'innerSolar', 'CO2'],\n",
       "      dtype='object')"
      ]
     },
     "execution_count": 8,
     "metadata": {},
     "output_type": "execute_result"
    }
   ],
   "source": [
    "data.columns"
   ]
  },
  {
   "cell_type": "code",
   "execution_count": 20,
   "metadata": {},
   "outputs": [],
   "source": [
    "input_cols =['weeks','supplyEC', 'supplyPH',\n",
    "       'innerCO2', 'innerHum', 'innerTemp', 'innerSolar', 'CO2']\n",
    "output_cols = ['관부직경', '엽병장', '엽수',\n",
    "       '엽장', '엽폭', '개화수', '초장', '최종화방차수', '화방 꽃수(소화수)']\n",
    "training_table = data.loc[:,input_cols]\n",
    "target_table= data.loc[:,output_cols]"
   ]
  },
  {
   "cell_type": "code",
   "execution_count": 2,
   "metadata": {},
   "outputs": [],
   "source": [
    "import pandas as pd, numpy as np\n",
    "import matplotlib.pyplot as plt \n",
    "from sklearn.model_selection import train_test_split\n",
    "from sklearn.multioutput import MultiOutputRegressor\n",
    "from sklearn.neighbors import KNeighborsRegressor"
   ]
  },
  {
   "cell_type": "code",
   "execution_count": 21,
   "metadata": {},
   "outputs": [
    {
     "name": "stdout",
     "output_type": "stream",
     "text": [
      "Model score: 0.5160619515913027\n"
     ]
    }
   ],
   "source": [
    "train_input, test_input, train_target, test_target = \\\n",
    "    train_test_split(training_table,\n",
    "                    target_table, \n",
    "                    test_size=0.2,\n",
    "                    random_state=42)\n",
    "    \n",
    "## KNN regression model \n",
    "knn_regressor = KNeighborsRegressor(n_neighbors=3)\n",
    "## Multi Output Setting\n",
    "multi_output_regressor = MultiOutputRegressor(knn_regressor)\n",
    "multi_output_regressor.fit(train_input, train_target)\n",
    "\n",
    "score = multi_output_regressor.score(test_input, test_target)\n",
    "print(f'Model score: {score}')\n",
    "\n",
    "predictions = multi_output_regressor.predict(test_input)"
   ]
  }
 ],
 "metadata": {
  "kernelspec": {
   "display_name": "base",
   "language": "python",
   "name": "python3"
  },
  "language_info": {
   "codemirror_mode": {
    "name": "ipython",
    "version": 3
   },
   "file_extension": ".py",
   "mimetype": "text/x-python",
   "name": "python",
   "nbconvert_exporter": "python",
   "pygments_lexer": "ipython3",
   "version": "3.11.7"
  }
 },
 "nbformat": 4,
 "nbformat_minor": 2
}
