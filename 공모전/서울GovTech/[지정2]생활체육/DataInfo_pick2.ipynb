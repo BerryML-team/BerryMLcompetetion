{
 "cells": [
  {
   "cell_type": "markdown",
   "metadata": {},
   "source": [
    "----\n",
    "####\n",
    "서울올림픽기념국민체육진흥공단_스포츠강좌이용권 등록강좌 정보\n",
    "<br><img src = \"https://www.notion.so/image/https%3A%2F%2Fprod-files-secure.s3.us-west-2.amazonaws.com%2F914ff162-e9aa-4454-80d2-30b702551154%2F539ecae1-9b5e-417f-9b5f-32058ce2e70a%2Fimage.png?table=block&id=ff0f36dc-21c5-49e3-9f64-eca18d0ee5e7&spaceId=914ff162-e9aa-4454-80d2-30b702551154&width=1710&userId=d72aebc7-576c-4f0e-9c69-1d5d32da7874&cache=v2\" width=\"700\" height=\"400\"/><br>\n",
    "\n",
    "End point \n",
    "http://apis.data.go.kr/B551014/SRVC_OD_API_FACIL_COURSE\n",
    "\n",
    "http://apis.data.go.kr/B551014/SRVC_OD_API_FACIL_COURSE/Servicekey=w1N+WdpiUt4yMy2JifOenamzNXc6HCceZ596C21rNM+LICP2KiUHN0E0F3Zf4Yu13zM8Myc/ZtIzgFBcywyxXQ==\n",
    "\n",
    "---\n",
    "서울올림픽기념국민체육진흥공단_전국체육시설 정보\n",
    "\n",
    "<br><img src = \"https://www.notion.so/image/https%3A%2F%2Fprod-files-secure.s3.us-west-2.amazonaws.com%2F914ff162-e9aa-4454-80d2-30b702551154%2F33e6d758-1025-4819-a8e3-fd4e0d7d94a6%2Fimage.png?table=block&id=2d0ace9e-8e7d-4d7d-934c-4660210e74de&spaceId=914ff162-e9aa-4454-80d2-30b702551154&width=1710&userId=d72aebc7-576c-4f0e-9c69-1d5d32da7874&cache=v2\" width=\"700\" height=\"300\"/><br>\n",
    "\n",
    "\n",
    "❏ End point        \n",
    "http://apis.data.go.kr/B551014/SRVC_API_SFMS_FACI\n",
    "\n",
    "❏ Encoding_key         \n",
    "\n",
    "w1N%2BWdpiUt4yMy2JifOenamzNXc6HCceZ596C21rNM%2BLICP2KiUHN0E0F3Zf4Yu13zM8Myc%2FZtIzgFBcywyxXQ%3D%3D\n",
    "\n",
    "❏ Decoding_key     \n",
    "w1N+WdpiUt4yMy2JifOenamzNXc6HCceZ596C21rNM+LICP2KiUHN0E0F3Zf4Yu13zM8Myc/ZtIzgFBcywyxXQ==\n",
    "\n"
   ]
  },
  {
   "cell_type": "markdown",
   "metadata": {},
   "source": [
    "https://apis.data.go.kr/B551014/SRVC_OD_API_FACIL_COURSE/todz_api_facil_course_i?serviceKey=w1N%2BWdpiUt4yMy2JifOenamzNXc6HCceZ596C21rNM%2BLICP2KiUHN0E0F3Zf4Yu13zM8Myc%2FZtIzgFBcywyxXQ%3D%3D&pageNo=1&numOfRows=10&resultType=json\n"
   ]
  },
  {
   "cell_type": "markdown",
   "metadata": {},
   "source": []
  },
  {
   "cell_type": "code",
   "execution_count": 1,
   "metadata": {},
   "outputs": [
    {
     "name": "stdout",
     "output_type": "stream",
     "text": [
      "\u001b[1m\u001b[92m______ 가상환경 체크 : codeart_env\u001b[0m\n",
      "\u001b[92mPython 설치 경로:/opt/anaconda3/envs/codeart_env/bin/python\u001b[0m\n",
      "\u001b[1m\u001b[92m______ Graph 한글화 Setting\u001b[0m\n",
      "\u001b[1m\u001b[95m______👏👏 OS platform 한글 세팅완료\u001b[0m\n",
      "\u001b[1m\u001b[93m✻✻✻✻______😜 생활체육 데이터 훑어 보기  😜______✻✻✻✻\u001b[0m\n"
     ]
    }
   ],
   "source": [
    "import warnings ;warnings.filterwarnings('ignore')\n",
    "import sys ;sys.path.append(\"../../../\")\n",
    "from  CommonFunc import *\n",
    "DataPreprocessing.plotSetting(Title=\"생활체육 데이터 훑어 보기 \")\n",
    "#DataPreprocessing.dataInfo()\n",
    "\n",
    "\n",
    "\n"
   ]
  },
  {
   "cell_type": "markdown",
   "metadata": {},
   "source": [
    "---\n",
    "###REST API json type 데이터 불러오기 \n"
   ]
  },
  {
   "cell_type": "code",
   "execution_count": 2,
   "metadata": {},
   "outputs": [
    {
     "name": "stdout",
     "output_type": "stream",
     "text": [
      "{'body': {'items': {'item': [{'brno': '2229201531',\n",
      "                              'course_nm': '어린이 체육교실',\n",
      "                              'course_no': '6362',\n",
      "                              'course_seta_desc_cn': '유아부터 어린이까지 신청 가능합니다.',\n",
      "                              'equip_tm': '20:00',\n",
      "                              'facil_sn': '1',\n",
      "                              'item_cd': '03',\n",
      "                              'item_nm': '기타종목',\n",
      "                              'lectr_nm': '허지원',\n",
      "                              'lectr_weekday_val': '1111100',\n",
      "                              'row_num': 1,\n",
      "                              'settl_amt': '80000',\n",
      "                              'start_tm': '10:00'}]},\n",
      "          'numOfRows': 1,\n",
      "          'pageNo': 1,\n",
      "          'totalCount': 52914},\n",
      " 'header': {'resultCode': '00', 'resultMsg': 'NORMAL SERVICE'}}\n"
     ]
    }
   ],
   "source": [
    "endpoint_base =\"https://apis.data.go.kr/B551014/SRVC_OD_API_FACIL_COURSE/todz_api_facil_course_i\"\n",
    "encode_key =\"w1N%2BWdpiUt4yMy2JifOenamzNXc6HCceZ596C21rNM%2BLICP2KiUHN0E0F3Zf4Yu13zM8Myc%2FZtIzgFBcywyxXQ%3D%3D\"\n",
    "\n",
    "def selenium_APIdata_get(endpoint_base,encode_key,pageNum=1,Rows=1):\n",
    "    \n",
    "    from urllib.parse import urlencode,unquote\n",
    "\n",
    "    decode_key =\"w1N+WdpiUt4yMy2JifOenamzNXc6HCceZ596C21rNM+LICP2KiUHN0E0F3Zf4Yu13zM8Myc/ZtIzgFBcywyxXQ==\"\n",
    "    queryString =\"?\"+urlencode(\n",
    "        {\n",
    "            \"serviceKey\":unquote(f\"{encode_key}\"),\n",
    "            \"pageNo\":1,\n",
    "            \"numOfRows\":1,\n",
    "            \"resultType\":\"json\",\n",
    "            \n",
    "        }\n",
    "    )\n",
    "    query_URL = endpoint_base+queryString\n",
    "    # !pip install selenium\n",
    "    # !pip install webdriver-manager\n",
    "    from selenium import webdriver\n",
    "    from selenium.webdriver.chrome.service import Service\n",
    "    from webdriver_manager.chrome import ChromeDriverManager\n",
    "    from selenium.webdriver.common.by import By\n",
    "    import json\n",
    "    from pprint import pprint\n",
    "    # Chrome browser  와 Chrome Driver Version 확인하기 \n",
    "    chrome_options = webdriver.ChromeOptions()\n",
    "\n",
    "    hrome_options = webdriver.ChromeOptions()\n",
    "    chrome_options.add_argument('--headless')  # 헤드리스 모드 활성화\n",
    "    driver = webdriver.Chrome(service=Service(ChromeDriverManager().install()), options=chrome_options)\n",
    "    driver.get(query_URL)\n",
    "    data =driver.find_element(By.XPATH,'/html/body/pre').text\n",
    "    data_json = json.loads(data)\n",
    "\n",
    "    pprint(data_json[\"response\"])\n",
    "from CommonFunc import DataAcquisition\n",
    "DataAcquisition.selenium_APIdata_get(endpoint_base,encode_key,pageNum=1,Rows=2)\n"
   ]
  },
  {
   "cell_type": "markdown",
   "metadata": {},
   "source": [
    "--- \n",
    "### url 은 되는데 파이썬 쪽에서 접근이 안됨. \n",
    "\n"
   ]
  },
  {
   "cell_type": "code",
   "execution_count": null,
   "metadata": {},
   "outputs": [],
   "source": []
  }
 ],
 "metadata": {
  "kernelspec": {
   "display_name": "base",
   "language": "python",
   "name": "python3"
  },
  "language_info": {
   "codemirror_mode": {
    "name": "ipython",
    "version": 3
   },
   "file_extension": ".py",
   "mimetype": "text/x-python",
   "name": "python",
   "nbconvert_exporter": "python",
   "pygments_lexer": "ipython3",
   "version": "3.11.9"
  }
 },
 "nbformat": 4,
 "nbformat_minor": 2
}
