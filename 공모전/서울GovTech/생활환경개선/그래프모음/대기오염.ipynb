{
 "cells": [
  {
   "cell_type": "code",
   "execution_count": 1,
   "metadata": {},
   "outputs": [],
   "source": [
    "import pandas as pd\n",
    "# file name 합치기\n",
    "from glob import glob\n",
    "import warnings\n",
    "warnings.filterwarnings('ignore')\n",
    "from tensorflow import keras\n",
    "from sklearn.model_selection import train_test_split\n",
    "# 시각화\n",
    "import matplotlib.pyplot as plt\n",
    "import numpy as np\n",
    "from PIL import Image\n",
    "\n",
    "from skimage import io, feature\n",
    "from skimage.transform import resize\n",
    "import cv2\n",
    "from PIL import ImageChops\n",
    "\n",
    "import seaborn as sns\n",
    "\n",
    "# 한글 폰트 문제 해결 \n",
    "# matplotlib은 한글 폰트를 지원하지 않음\n",
    "# os정보\n",
    "import platform\n",
    "\n",
    "# font_manager : 폰트 관리 모듈\n",
    "# rc : 폰트 변경 모듈\n",
    "from matplotlib import font_manager, rc\n",
    "# unicode 설정\n",
    "plt.rcParams['axes.unicode_minus'] = False\n",
    "\n",
    "if platform.system() == 'Darwin':\n",
    "    rc('font', family='AppleGothic') # os가 macos\n",
    "elif platform.system() == 'Windows':\n",
    "    path = 'c:/Windows/Fonts/malgun.ttf' # os가 windows\n",
    "    font_name = font_manager.FontProperties(fname=path).get_name()\n",
    "    rc('font', family=font_name)\n",
    "else:\n",
    "    print(\"Unknown System\")"
   ]
  },
  {
   "cell_type": "code",
   "execution_count": 6,
   "metadata": {},
   "outputs": [],
   "source": [
    "대기오염2019 = pd.read_csv(\"../데이터파일/서울특별시 미세먼지 데이터(5개년)/일별평균대기오염도_2019.csv\",encoding='EUC-KR')\n",
    "대기오염2020 = pd.read_csv(\"../데이터파일/서울특별시 미세먼지 데이터(5개년)/일별평균대기오염도_2020.csv\",encoding='EUC-KR')\n",
    "대기오염2021 = pd.read_csv(\"../데이터파일/서울특별시 미세먼지 데이터(5개년)/일별평균대기오염도_2021.csv\",encoding='EUC-KR')\n",
    "대기오염2022 = pd.read_csv(\"../데이터파일/서울특별시 미세먼지 데이터(5개년)/일별평균대기오염도_2022.csv\",encoding='EUC-KR')\n",
    "대기오염2023 = pd.read_csv(\"../데이터파일/서울특별시 미세먼지 데이터(5개년)/일별평균대기오염도_2023.csv\",encoding='EUC-KR')\n",
    "대기오염전체 = pd.concat([대기오염2019, 대기오염2020,대기오염2021,대기오염2022,대기오염2023],axis=0)"
   ]
  },
  {
   "cell_type": "code",
   "execution_count": 5,
   "metadata": {},
   "outputs": [],
   "source": []
  },
  {
   "cell_type": "code",
   "execution_count": null,
   "metadata": {},
   "outputs": [],
   "source": []
  }
 ],
 "metadata": {
  "kernelspec": {
   "display_name": "base",
   "language": "python",
   "name": "python3"
  },
  "language_info": {
   "codemirror_mode": {
    "name": "ipython",
    "version": 3
   },
   "file_extension": ".py",
   "mimetype": "text/x-python",
   "name": "python",
   "nbconvert_exporter": "python",
   "pygments_lexer": "ipython3",
   "version": "3.11.5"
  }
 },
 "nbformat": 4,
 "nbformat_minor": 2
}
