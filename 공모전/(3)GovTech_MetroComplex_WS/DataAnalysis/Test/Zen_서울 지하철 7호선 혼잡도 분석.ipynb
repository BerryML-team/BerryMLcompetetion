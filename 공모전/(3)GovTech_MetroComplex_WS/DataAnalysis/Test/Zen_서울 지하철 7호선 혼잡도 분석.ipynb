{
 "cells": [
  {
   "cell_type": "markdown",
   "metadata": {},
   "source": [
    "---\n",
    "# Projectr : 하루시작 지하철 혼잡도 분석\n",
    "### Description : \n",
    "- <span style = \"color : #FFBE98\">서울교통공사 7호선 역별 일별 시간대별 승하차인원 정보 </span>\n",
    "    \n",
    "### Author : Zenzen\n",
    "### Date : 2024. 06. 03. (Mon) ~\n",
    "### Detail : \n",
    "### Update: \n",
    "- 2024.06.03 zenzen : 일별 데이터 정제 <br><br>\n",
    "  - 기존 테스트 데이터 의 일별 데이터가 없는 부분 참고하여 일별 데이터 추출 및 데이터 칼럼 정제를 시작.\n"
   ]
  },
  {
   "cell_type": "markdown",
   "metadata": {},
   "source": [
    "---"
   ]
  },
  {
   "cell_type": "code",
   "execution_count": 2,
   "metadata": {},
   "outputs": [
    {
     "name": "stdout",
     "output_type": "stream",
     "text": [
      "___## OS platform 한글 세팅완료 ## ___\n"
     ]
    }
   ],
   "source": [
    "import pandas as pd ,numpy as  np # Data manipulatioin\n",
    "import seaborn as sns,matplotlib.pyplot as plt # visiulization\n",
    "import warnings;warnings.filterwarnings('ignore') # 경고 무시 \n",
    "# 기본 세팅\n",
    "def plotSetting(pltStyle):\n",
    "    import matplotlib.pyplot as plt # visiulization\n",
    "    import platform\n",
    "    from matplotlib import font_manager, rc # rc : 폰트 변경 모듈font_manager : 폰트 관리 모듈\n",
    "    plt.style.use(pltStyle)\n",
    "    plt.rcParams['axes.unicode_minus'] = False# unicode 설정\n",
    "    if platform.system() == 'Darwin': rc('font', family='AppleGothic') # os가 macos\n",
    "    elif platform.system() == 'Windows': # os가 windows\n",
    "        path = 'c:/Windows/Fonts/malgun.ttf' \n",
    "        font_name = font_manager.FontProperties(fname=path).get_name()\n",
    "        rc('font', family=font_name)\n",
    "    else:\n",
    "        print(\"Unknown System\")\n",
    "    print(\"___## OS platform 한글 세팅완료 ## ___\")\n",
    "# graph style seaborn\n",
    "plotSetting(\"seaborn-v0_8\")"
   ]
  },
  {
   "cell_type": "markdown",
   "metadata": {},
   "source": [
    "## Data 불러오기\n",
    "- 서울시 지하철 호선별 역별 시간대별 승하차 인원 정보"
   ]
  },
  {
   "cell_type": "code",
   "execution_count": 3,
   "metadata": {},
   "outputs": [],
   "source": [
    "# pd.read_csv(\"../Data/SeoulSubway.csv\", encoding = 'euc-kr')"
   ]
  },
  {
   "cell_type": "markdown",
   "metadata": {},
   "source": [
    "### 2015년 ~ 2024년 05월 서울 7호선 지하철 역별 시간대별 승하차 인원 정보"
   ]
  },
  {
   "cell_type": "code",
   "execution_count": 4,
   "metadata": {},
   "outputs": [],
   "source": [
    "my_key = '74764c616972686b373771796a7757'"
   ]
  },
  {
   "cell_type": "code",
   "execution_count": 11,
   "metadata": {},
   "outputs": [],
   "source": [
    "import requests\n",
    "\n",
    "url = f'http://openapi.seoul.go.kr:8088/{my_key}/json/CardSubwayTime/1/5'\n",
    "end_year = 2024  # 데이터 마지막 연도\n",
    "start_year = 2015  # 데이터 시작 연도\n",
    "line_num = \"07호선\"  # 노선번호\n",
    "\n",
    "all_data = []\n",
    "\n",
    "for year in range(start_year, end_year + 1) :\n",
    "    if year == end_year :\n",
    "        end_month = 5  # 2024년에는 5월까지만 데이터 수집\n",
    "    else :\n",
    "        end_month = 13  # 다른 년도는 모든 월 데이터 수집\n",
    "\n",
    "    for month in range(1, end_month) :\n",
    "        month_string = str(month).zfill(2)  # 월을 두자리 문자열로 변환\n",
    "\n",
    "        # print(month_string)\n",
    "        params = {\n",
    "            \"YEAR\": str(year),\n",
    "            \"MONTH\": month_string,\n",
    "            \"LINE_NUM\": line_num\n",
    "        }\n",
    "\n",
    "        response = requests.get(url, params = params)\n",
    "        if response.status_code == 200 :\n",
    "            data = response.json()\n",
    "            \n",
    "            if \"CardSubwayTime\" in data and \"row\" in data[\"CardSubwayTime\"] :\n",
    "                df = pd.DataFrame(data[\"CardSubwayTime\"][\"row\"])\n",
    "                print(df)\n",
    "                # 데이터 전처리 및 저장 코드 작성\n",
    "\n",
    "                all_data.append(df)\n",
    "\n",
    "            # else :\n",
    "            #     print(f\"{year}년 {month}월 데이터를 가져오는데 실패했습니다.\")\n",
    "            #     continue\n",
    "                \n",
    "        else :\n",
    "            print(f\"{year}년 {month}월 데이터를 가져오는데 실패했습니다.\")\n",
    "            continue\n",
    "\n",
    "# # 모든 데이터프레임을 하나로 합치기\n",
    "# all_data_df = pd.concat(all_data, ignore_index = True)"
   ]
  },
  {
   "cell_type": "code",
   "execution_count": 12,
   "metadata": {},
   "outputs": [
    {
     "data": {
      "text/plain": [
       "[]"
      ]
     },
     "execution_count": 12,
     "metadata": {},
     "output_type": "execute_result"
    }
   ],
   "source": [
    "all_data"
   ]
  },
  {
   "cell_type": "code",
   "execution_count": null,
   "metadata": {},
   "outputs": [],
   "source": []
  },
  {
   "cell_type": "code",
   "execution_count": null,
   "metadata": {},
   "outputs": [],
   "source": []
  },
  {
   "cell_type": "code",
   "execution_count": null,
   "metadata": {},
   "outputs": [],
   "source": []
  },
  {
   "cell_type": "code",
   "execution_count": null,
   "metadata": {},
   "outputs": [],
   "source": []
  }
 ],
 "metadata": {
  "kernelspec": {
   "display_name": "base",
   "language": "python",
   "name": "python3"
  },
  "language_info": {
   "codemirror_mode": {
    "name": "ipython",
    "version": 3
   },
   "file_extension": ".py",
   "mimetype": "text/x-python",
   "name": "python",
   "nbconvert_exporter": "python",
   "pygments_lexer": "ipython3",
   "version": "3.11.7"
  }
 },
 "nbformat": 4,
 "nbformat_minor": 2
}
