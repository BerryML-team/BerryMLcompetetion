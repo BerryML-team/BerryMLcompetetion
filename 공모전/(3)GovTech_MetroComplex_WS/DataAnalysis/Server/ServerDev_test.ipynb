{
 "cells": [
  {
   "cell_type": "code",
   "execution_count": 17,
   "metadata": {},
   "outputs": [],
   "source": [
    "import sys\n",
    "import os\n",
    "\n",
    "# 현재 작업 디렉토리의 상위 폴더 경로를 가져온다\n",
    "parent_dir = os.path.dirname(os.getcwd())\n",
    "\n",
    "# 상위 폴더 경로를 sys.path에 추가한다\n",
    "sys.path.append(parent_dir)\n",
    "# 상위 폴더에 있는 my_module 폴더 안의 Functions 모듈을 import한다\n",
    "from Module.Functions import Service\n",
    "\n",
    "# my_functions 모듈의 함수를 사용할 수 있습니다.\n",
    "\n"
   ]
  },
  {
   "cell_type": "code",
   "execution_count": null,
   "metadata": {},
   "outputs": [],
   "source": [
    "## Service Function Setting for jupyter notebook \n",
    "import sys,os \n",
    "parent_dir = os.path.dirname(os.getcwd())\n",
    "sys.path.append(parent_dir)\n",
    "from Module.Functions import Service"
   ]
  }
 ],
 "metadata": {
  "kernelspec": {
   "display_name": "base",
   "language": "python",
   "name": "python3"
  },
  "language_info": {
   "codemirror_mode": {
    "name": "ipython",
    "version": 3
   },
   "file_extension": ".py",
   "mimetype": "text/x-python",
   "name": "python",
   "nbconvert_exporter": "python",
   "pygments_lexer": "ipython3",
   "version": "3.1.-1"
  }
 },
 "nbformat": 4,
 "nbformat_minor": 2
}
