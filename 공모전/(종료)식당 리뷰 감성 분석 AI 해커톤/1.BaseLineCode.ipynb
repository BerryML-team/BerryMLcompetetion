{
 "cells": [
  {
   "cell_type": "code",
   "execution_count": 1,
   "metadata": {},
   "outputs": [
    {
     "ename": "ModuleNotFoundError",
     "evalue": "No module named 'CommonFunc'",
     "output_type": "error",
     "traceback": [
      "\u001b[0;31m---------------------------------------------------------------------------\u001b[0m",
      "\u001b[0;31mModuleNotFoundError\u001b[0m                       Traceback (most recent call last)",
      "Cell \u001b[0;32mIn[1], line 3\u001b[0m\n\u001b[1;32m      1\u001b[0m \u001b[38;5;28;01mimport\u001b[39;00m \u001b[38;5;21;01mwarnings\u001b[39;00m ;warnings\u001b[38;5;241m.\u001b[39mfilterwarnings(\u001b[38;5;124m'\u001b[39m\u001b[38;5;124mignore\u001b[39m\u001b[38;5;124m'\u001b[39m)\n\u001b[1;32m      2\u001b[0m \u001b[38;5;28;01mimport\u001b[39;00m \u001b[38;5;21;01msys\u001b[39;00m ;sys\u001b[38;5;241m.\u001b[39mpath\u001b[38;5;241m.\u001b[39mappend(\u001b[38;5;124m\"\u001b[39m\u001b[38;5;124m../../\u001b[39m\u001b[38;5;124m\"\u001b[39m)\n\u001b[0;32m----> 3\u001b[0m \u001b[38;5;28;01mfrom\u001b[39;00m  \u001b[38;5;21;01mCommonFunc\u001b[39;00m \u001b[38;5;28;01mimport\u001b[39;00m \u001b[38;5;241m*\u001b[39m\n\u001b[1;32m      5\u001b[0m Analysis_title(\u001b[38;5;124m\"\u001b[39m\u001b[38;5;124m신약 개발 데이콘 데이터 분석 베이스코드 강의\u001b[39m\u001b[38;5;124m\"\u001b[39m)\n\u001b[1;32m      6\u001b[0m data_column_info(data_column_info_str\u001b[38;5;241m=\u001b[39m\u001b[38;5;124m\"\"\"\u001b[39m\n\u001b[1;32m      7\u001b[0m \u001b[38;5;124m- Author : Forrest DPark\u001b[39m\n\u001b[1;32m      8\u001b[0m \u001b[38;5;124m- Description :  \u001b[39m\n\u001b[0;32m   (...)\u001b[0m\n\u001b[1;32m     36\u001b[0m \n\u001b[1;32m     37\u001b[0m \u001b[38;5;124m\"\"\"\u001b[39m)\n",
      "\u001b[0;31mModuleNotFoundError\u001b[0m: No module named 'CommonFunc'"
     ]
    }
   ],
   "source": [
    "import warnings ;warnings.filterwarnings('ignore')\n",
    "import sys ;sys.path.append(\"../../\")\n",
    "from  BerryMLcompetetion.CommonFunc import *\n",
    "\n",
    "Analysis_title(\"신약 개발 데이콘 데이터 분석 베이스코드 강의\")\n",
    "data_column_info(data_column_info_str=\"\"\"\n",
    "- Author : Forrest DPark\n",
    "- Description :  \n",
    ".   ◻︎ Topic  : 식당 리뷰 감성 분석 : 데이스쿨 구독자 전용 AI 해커톤\n",
    ".   ◻︎ Detail : 식당 리뷰 텍스트 데이터를 활용해 감성(긍정, 중립, 부정)을 분류하는 AI 알고리즘 개발\n",
    ".   ◻︎ Due   : 2024.08.12 ~ 2024.09.09 09:59 \n",
    ".   ◻︎ Reward : \n",
    "\n",
    ".   ◻︎ Main Link :https://dacon.io/competitions/official/236351/overview/description\n",
    ".   ◻︎ Basecode Link :https://dacon.io/edu/324\n",
    ".   ◻︎ DataSet Info:\n",
    "\n",
    "IRAK4 (Interleukin-1 Receptor-Associated Kinase 4)\n",
    "    IRAK4란?\n",
    "    IRAK4는 우리 몸의 면역 시스템에서 중요한 역할을 하는 단백질입니다. 면역 시스템은 우리 몸을 질병으로부터 보호하는데, 이 과정에서 신호를 전달하는 경로들이 있습니다.\n",
    "    IRAK4는 이런 신호 전달 경로 중 하나에서 매우 중요한 \"스위치\" 역할을 합니다. 예를 들어, 우리 몸이 세균이나 바이러스를 감지하면 IRAK4가 이 신호를 받아서 면역 시스템을 활성화시킵니다.\n",
    "    IRAK4가 제대로 작동하지 않으면 면역 반응이 과도하게 일어나서 염증성 질환(예 류마티스 관절염, 크론병)이나 심지어 암과 같은 질병이 발생할 수 있습니다.\n",
    "    그래서 과학자들은 IRAK4를 표적으로 삼아 이 단백질의 작용을 조절할 수 있는 약물을 개발하고 있습니다. IRAK4의 활동을 줄이면 염증을 줄일 수 있기 때문입니다.\n",
    "\n",
    "    IC50이란?\n",
    "    IC50는 특정 약물이나 화합물이 몸에서 작동할 때, 그 작용을 얼마나 잘 억제하는지 측정하는 값입니다.\n",
    "    구체적으로, 약물(화합물)이 어떤 단백질의 활성을 절반(50%) 정도 억제하는 데 필요한 농도를 말합니다. 쉽게 말해, 약물이 얼마나 강력한지 보여주는 숫자입니다.\n",
    "    IC50 값이 낮을수록 그 약물은 적은 양으로도 단백질을 잘 억제할 수 있다는 뜻입니다. 즉, 낮은 IC50는 약물이 더 강력하다는 것을 의미합니다.\n",
    "    + 50%의 억제하는데 필요한 농도를 정확히 캐치하긴 어렵습니다. 실제 데이터 상으론 train.csv의 IC50_nM 컬럼 맨 아래 데이터를 보시면 55000으로 딱 떨어지긴 어려울 것 같습니다..!\n",
    "\n",
    "- Update : \n",
    "    2024.09.09 AM 1020:\n",
    "        - 베이스 코드 따라침\n",
    "        - IRAK4 에 대한 정의와 IC50 정의 \n",
    "\n",
    "\"\"\")\n",
    "\n",
    "DataPreprocessing.plotSetting()\n"
   ]
  }
 ],
 "metadata": {
  "kernelspec": {
   "display_name": "base",
   "language": "python",
   "name": "python3"
  },
  "language_info": {
   "codemirror_mode": {
    "name": "ipython",
    "version": 3
   },
   "file_extension": ".py",
   "mimetype": "text/x-python",
   "name": "python",
   "nbconvert_exporter": "python",
   "pygments_lexer": "ipython3",
   "version": "3.11.7"
  }
 },
 "nbformat": 4,
 "nbformat_minor": 2
}
