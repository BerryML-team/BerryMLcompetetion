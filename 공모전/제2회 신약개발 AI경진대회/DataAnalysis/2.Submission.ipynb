{
 "cells": [
  {
   "cell_type": "code",
   "execution_count": 2,
   "metadata": {},
   "outputs": [
    {
     "name": "stdout",
     "output_type": "stream",
     "text": [
      "\u001b[1m\u001b[94m◎ 현재 경로의 폴더 목록 --\u001b[0m\n",
      "\u001b[93m  7. /Users/forrestdpark/Desktop/PDG/Python_/BerryMLcompetetion/공모전/제2회 신약개발 AI경진대회/DataAnalysis/데이터\u001b[0m\n",
      "\u001b[93m  10. /Users/forrestdpark/Desktop/PDG/Python_/BerryMLcompetetion/공모전/제2회 신약개발 AI경진대회/DataAnalysis/Functions\u001b[0m\n",
      "\u001b[1m\u001b[94m◎ 주피터 가상환경 체크 : base\u001b[0m\n",
      "\u001b[1m\u001b[94m◎ Python 설치 경로:/opt/anaconda3/bin/python\u001b[0m\n",
      "\u001b[1m\u001b[94m◎ Graph 한글화 Setting\u001b[0m\n",
      "\u001b[1m\u001b[94m◎ OS platform 한글 세팅완료\u001b[0m\n",
      "\u001b[1m\u001b[38;2;0;255;0m✻✻✻✻______🙄 신약 개발 데이콘  제출용 파일 만들기  🙄______✻✻✻✻\u001b[0m\n"
     ]
    }
   ],
   "source": [
    "import warnings ;warnings.filterwarnings('ignore')\n",
    "import sys ;sys.path.append(\"../../../\")\n",
    "from  CommonFunc import *\n",
    "DataPreprocessing.plotSetting()\n",
    "Analysis_title(\"신약 개발 데이콘  제출용 파일 만들기 \")\n",
    "data_column_info(data_column_info_str=\"\"\"\n",
    "- Description :  \n",
    "- Author : Forrest DPark\n",
    "- Update : \n",
    "    ○ 2024.08.31\n",
    "        1. Submition 파일 , 모델 저장 에서부터 좀더 시스템화해서 돌아갈수있도록 만들자\n",
    "\"\"\")"
   ]
  },
  {
   "cell_type": "code",
   "execution_count": 15,
   "metadata": {},
   "outputs": [
    {
     "name": "stdout",
     "output_type": "stream",
     "text": [
      "\u001b[1m\u001b[38;2;0;255;0m✻✻✻✻______😜 2-3 번 파일 데이터 보고 분석 by Forrest.D.Park 😜______✻✻✻✻\u001b[0m\n"
     ]
    },
    {
     "name": "stderr",
     "output_type": "stream",
     "text": [
      "Data File 불러오는 중..:  1%|\u001b[32m          \u001b[0m| 1/100 [elapsed: 00:00 remaining: 00:00]"
     ]
    },
    {
     "name": "stdout",
     "output_type": "stream",
     "text": [
      "\u001b[93m\n",
      "\n",
      "2.test.csv 파일의 데이터 프레임.tail() \u001b[0m\n",
      "\u001b[38;2;127;0;255m\t0 번째 : 2.test.csv\u001b[0m\n",
      "\u001b[38;2;255;255;0m0번째 데이터를 2.test.csv호출합니다. \u001b[0m\n"
     ]
    },
    {
     "name": "stderr",
     "output_type": "stream",
     "text": [
      "\n"
     ]
    },
    {
     "data": {
      "text/html": [
       "<div style=\"text-align: center; margin-left: 50px;\"><table border=\"1\" class=\"dataframe\">\n",
       "  <thead>\n",
       "    <tr style=\"text-align: right;\">\n",
       "      <th></th>\n",
       "      <th>ID</th>\n",
       "      <th>Smiles</th>\n",
       "    </tr>\n",
       "  </thead>\n",
       "  <tbody>\n",
       "    <tr>\n",
       "      <th>108</th>\n",
       "      <td>TEST_108</td>\n",
       "      <td>N#CC1=CC(C=C2)=C(C=C1)N2C(N=C3)=NC(N4CCOCC4)=C3C(C=N5)=CN5C6CCNCC6</td>\n",
       "    </tr>\n",
       "    <tr>\n",
       "      <th>109</th>\n",
       "      <td>TEST_109</td>\n",
       "      <td>O=C(C1=CSC(C2=CC=NC=C2)=N1)NC3=CC(NC4CCN(C(C)C)CC4)=CC=C3N5CCC(NC(C)=O)CC5</td>\n",
       "    </tr>\n",
       "    <tr>\n",
       "      <th>110</th>\n",
       "      <td>TEST_110</td>\n",
       "      <td>N#Cc1ccc(Nc2ncc(cn2)c3cnn(c3)C4CCNCC4)cc1N[C@@H]5CCNC5</td>\n",
       "    </tr>\n",
       "    <tr>\n",
       "      <th>111</th>\n",
       "      <td>TEST_111</td>\n",
       "      <td>O=C(C)N(CC1)CCC1N2N=CC(C3=CN=C(N4C(C=CC(C#N)=C5)=C5C=C4)N=C3)=C2</td>\n",
       "    </tr>\n",
       "    <tr>\n",
       "      <th>112</th>\n",
       "      <td>TEST_112</td>\n",
       "      <td>N#CC(C=C1)=CC=C1NC(N=C2)=NC(NC3CNCCC3)=C2C(C=N4)=CN4C5CCOCC5</td>\n",
       "    </tr>\n",
       "  </tbody>\n",
       "</table></div>"
      ],
      "text/plain": [
       "<IPython.core.display.HTML object>"
      ]
     },
     "metadata": {},
     "output_type": "display_data"
    },
    {
     "name": "stdout",
     "output_type": "stream",
     "text": [
      "\u001b[38;2;127;0;255m\t0 번째 : 2.test.csv\u001b[0m\n",
      "\u001b[38;2;255;255;0m0번째 데이터를 2.test.csv호출합니다. \u001b[0m\n"
     ]
    }
   ],
   "source": [
    "## 데이터 불러오기\n",
    "data_dict_test= data_watch_one(2,data_folder_path=\"./데이터/\",dataInfo=False)\n",
    "test = DataPreprocessing.key_selector(data_dict_test,0) ##test file"
   ]
  },
  {
   "cell_type": "code",
   "execution_count": 16,
   "metadata": {},
   "outputs": [
    {
     "name": "stdout",
     "output_type": "stream",
     "text": [
      "[0 4 4 0 0 0 0 2 2 2 2 2 0 0 0 9 0 0 26 0 0 5 2 0 1 0 0 0 0 0 0 0 0 0]\n"
     ]
    }
   ],
   "source": [
    "test = test\n",
    "import joblib\n",
    "\n",
    "# 모델 불러오기\n",
    "loaded_model = joblib.load(\"XG_model\")  # 모델 파일 이름\n",
    "\n",
    "# 모델 사용\n",
    "char_column=['#', '(', ')', '+', '-', '.', '/', '1', '2', '3', '4', '5', '6', '7', '8', '=', '@', 'B', 'C', 'F', 'H', 'N', 'O', 'P', 'S', 'left_bracket', '\\\\', 'right_bracket','c', 'l', 'n', 'o', 'r', 's']\n",
    "# loaded_model.predict()\n",
    "test_col_change = pd.DataFrame(columns=char_column)\n",
    "def piC50_to_IC50(pIC50):\n",
    "    import numpy as np\n",
    "    pIC50=abs(pIC50)\n",
    "    IC50=10**(-pIC50)*(10**9)\n",
    "    # print(pIC50)\n",
    "    return IC50\n",
    "\n",
    "def count_character(smiles_str=\"\"):\n",
    "    \"\"\"\n",
    "    \"\"\"\n",
    "    if smiles_str:\n",
    "        smiles = smiles_str\n",
    "    char_counts = {'left_bracket': 0, 'right_bracket': 0} # 초기화\n",
    "    for char in smiles:\n",
    "        if char in char_counts:\n",
    "            if char == \"[\":\n",
    "                print(\"[입니다\")\n",
    "                char_counts[\"left_bracket\"] += 1\n",
    "            elif char ==\"]\":\n",
    "                char_counts[\"right_bracket\"] += 1\n",
    "            else:\n",
    "                char_counts[char] += 1\n",
    "        else:\n",
    "            \n",
    "            if char == \"[\":\n",
    "                char_counts[\"left_bracket\"] += 1\n",
    "            elif char ==\"]\":\n",
    "                char_counts[\"right_bracket\"] += 1\n",
    "            else:\n",
    "                char_counts[char] = 1\n",
    "    return char_counts\n",
    "\n",
    "\n",
    "# SMILES 문자열 순회\n",
    "for i, smiles in enumerate(test['Smiles']):\n",
    "    char_counts = count_character(smiles_str=smiles)\n",
    "    row = pd.Series({k: v for k, v in char_counts.items()})  # 딕셔너리를 시리즈로 변환\n",
    "    row = row.reindex(char_column, fill_value=0)  # 컬럼 순서 맞추고 없는 값 0으로 채우기\n",
    "    row['Smiles'] = smiles  # SMILES 문자열 추가\n",
    "    test_col_change.loc[i] = row  # 데이터프레임에 행 추가\n",
    "\n",
    "# df_display_centered(test_col_change)\n",
    "\n",
    "# # 컬럼 이름 변경\n",
    "print(test_col_change.iloc[0,:].to_numpy())\n"
   ]
  },
  {
   "cell_type": "code",
   "execution_count": 20,
   "metadata": {},
   "outputs": [],
   "source": [
    "\n",
    "import joblib\n",
    "\n",
    "# 모델 불러오기\n",
    "loaded_model = joblib.load(\"XG_model\")  # 모델 파일 이름\n",
    "test_num =12\n",
    "\n",
    "result_submit =pd.DataFrame(columns=['ID','IC50_nM'])\n",
    "\n",
    "for order,test_id in enumerate(test['ID']):\n",
    "    predict_result = piC50_to_IC50(loaded_model.predict([test_col_change.iloc[order,:].to_numpy()])[0])\n",
    "    # print(\"테스트 예측값(IC50):\",predict_result)\n",
    "    result_submit.loc[order] = [test_id, predict_result]  # 결과 데이터프레임에 행 추가\n",
    "    # result_sumbit['ID']=test_id\n",
    "    # result_sumbit['IC50_nM']=predict_result\n",
    "\n",
    "\n",
    "\n",
    "\n",
    "\n"
   ]
  },
  {
   "cell_type": "code",
   "execution_count": 22,
   "metadata": {},
   "outputs": [
    {
     "data": {
      "text/html": [
       "<div style=\"text-align: center; margin-left: 50px;\"><table border=\"1\" class=\"dataframe\">\n",
       "  <thead>\n",
       "    <tr style=\"text-align: right;\">\n",
       "      <th></th>\n",
       "      <th>ID</th>\n",
       "      <th>IC50_nM</th>\n",
       "    </tr>\n",
       "  </thead>\n",
       "  <tbody>\n",
       "    <tr>\n",
       "      <th>108</th>\n",
       "      <td>TEST_108</td>\n",
       "      <td>6.348031</td>\n",
       "    </tr>\n",
       "    <tr>\n",
       "      <th>109</th>\n",
       "      <td>TEST_109</td>\n",
       "      <td>798.612531</td>\n",
       "    </tr>\n",
       "    <tr>\n",
       "      <th>110</th>\n",
       "      <td>TEST_110</td>\n",
       "      <td>29.717871</td>\n",
       "    </tr>\n",
       "    <tr>\n",
       "      <th>111</th>\n",
       "      <td>TEST_111</td>\n",
       "      <td>6.268973</td>\n",
       "    </tr>\n",
       "    <tr>\n",
       "      <th>112</th>\n",
       "      <td>TEST_112</td>\n",
       "      <td>11.572926</td>\n",
       "    </tr>\n",
       "  </tbody>\n",
       "</table></div>"
      ],
      "text/plain": [
       "<IPython.core.display.HTML object>"
      ]
     },
     "metadata": {},
     "output_type": "display_data"
    }
   ],
   "source": [
    "df_display_centered(result_submit.tail())"
   ]
  },
  {
   "cell_type": "markdown",
   "metadata": {},
   "source": []
  },
  {
   "cell_type": "markdown",
   "metadata": {},
   "source": []
  },
  {
   "cell_type": "code",
   "execution_count": 24,
   "metadata": {},
   "outputs": [],
   "source": [
    "result_submit.to_csv(\"submission_01.csv\",index=False)"
   ]
  },
  {
   "cell_type": "code",
   "execution_count": null,
   "metadata": {},
   "outputs": [],
   "source": []
  },
  {
   "cell_type": "code",
   "execution_count": null,
   "metadata": {},
   "outputs": [],
   "source": []
  },
  {
   "cell_type": "code",
   "execution_count": null,
   "metadata": {},
   "outputs": [],
   "source": []
  },
  {
   "cell_type": "code",
   "execution_count": null,
   "metadata": {},
   "outputs": [],
   "source": []
  }
 ],
 "metadata": {
  "kernelspec": {
   "display_name": "base",
   "language": "python",
   "name": "python3"
  },
  "language_info": {
   "codemirror_mode": {
    "name": "ipython",
    "version": 3
   },
   "file_extension": ".py",
   "mimetype": "text/x-python",
   "name": "python",
   "nbconvert_exporter": "python",
   "pygments_lexer": "ipython3",
   "version": "3.11.7"
  }
 },
 "nbformat": 4,
 "nbformat_minor": 2
}
