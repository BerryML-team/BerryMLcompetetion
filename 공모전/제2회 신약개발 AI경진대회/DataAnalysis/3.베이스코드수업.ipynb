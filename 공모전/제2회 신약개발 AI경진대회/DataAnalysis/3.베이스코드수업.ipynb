{
 "cells": [
  {
   "cell_type": "code",
   "execution_count": null,
   "metadata": {},
   "outputs": [],
   "source": [
    "import warnings ;warnings.filterwarnings('ignore')\n",
    "import sys ;sys.path.append(\"../../../\")\n",
    "from  CommonFunc import *\n",
    "\n",
    "Analysis_title(\"신약 개발 데이콘 데이터 분석 베이스코드 강의\")\n",
    "data_column_info(data_column_info_str=\"\"\"\n",
    "- Description :  Smiles 정제 맟 모델 학습, 저장 \n",
    "- Author : Forrest DPark\n",
    "- Update : \n",
    "\n",
    "\"\"\")\n",
    "data_column_info()\n",
    "DataPreprocessing.plotSetting()\n"
   ]
  }
 ],
 "metadata": {
  "language_info": {
   "name": "python"
  }
 },
 "nbformat": 4,
 "nbformat_minor": 2
}
