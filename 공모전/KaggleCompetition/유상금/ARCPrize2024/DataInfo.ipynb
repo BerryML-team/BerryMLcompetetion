{
 "cells": [
  {
   "cell_type": "markdown",
   "metadata": {},
   "source": [
    " 대회 설명 링크 : https://www.kaggle.com/competitions/arc-prize-2024"
   ]
  }
 ],
 "metadata": {
  "language_info": {
   "name": "python"
  }
 },
 "nbformat": 4,
 "nbformat_minor": 2
}
