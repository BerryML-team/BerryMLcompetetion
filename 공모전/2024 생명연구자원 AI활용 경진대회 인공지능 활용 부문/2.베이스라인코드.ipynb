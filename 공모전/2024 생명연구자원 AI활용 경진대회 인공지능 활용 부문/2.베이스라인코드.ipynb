{
 "cells": [
  {
   "cell_type": "code",
   "execution_count": 3,
   "metadata": {},
   "outputs": [
    {
     "name": "stdout",
     "output_type": "stream",
     "text": [
      "\u001b[1m\u001b[38;2;0;255;0m✻✻✻✻______🤗 2024 생명연구자원 AI활용 경진대회 : 인공지능 활용 부문 베이스라인 코드   🤗______✻✻✻✻\u001b[0m\n",
      "\u001b[1m\u001b[38;2;255;127;0m- Author:\u001b[0m \u001b[38;2;0;255;127mForrest DPark\u001b[0m\n",
      "\u001b[1m\u001b[38;2;255;127;0m- Description:\u001b[0m \u001b[38;2;0;255;127m\u001b[0m\n",
      "    암환자 유전체 데이터 기반 암종 분류 AI 모델 개발\n",
      "    '2024 생명연구자원 AI활용 경진대회'는 바이오 데이터를 기반으로 한 AI 기술의 문제 해결 능력을 탐구하는 것을 목표로 합니다.\n",
      "    이 대회는 바이오 분야에서 AI 활용의 저변을 확대하고, \n",
      "    복잡한 바이오 데이터를 효율적으로 분석 및 해석할 수 있는 AI 알고리즘 개발에 초점을 맞추고 있습니다.\n",
      "    본 대회의 구체적인 과제는 암환자 유전체 데이터의 변이 정보를 활용하여 암종을 분류하는 AI 모델을 개발하는 것입니다.\n",
      "    참가자들은 제공된 학습 데이터셋(암환자 유전체 변이 정보)을 사용하여 특정 변이 정보를 바탕으로 암종을 정확하게 분류할 수 있는 \n",
      "    AI 알고리즘을 개발해야 합니다.\n",
      "    이 대회의 궁극적인 목적은 바이오 데이터의 활용도를 높이고,\n",
      "    바이오 분야에서 AI 기술의 적용 가능성을 극대화하며, 인공지능 기술이 실제 바이오 의료 문제 해결에 어떻게 기여할 수 있는지 탐구하는 것입니다.\n",
      "\n",
      "\u001b[1m\u001b[38;2;255;127;0m- Update:\u001b[0m \u001b[38;2;0;255;127m\u001b[0m\n",
      "\u001b[1m\u001b[38;2;255;127;0m.   ○ 2024.09.03 Mon by PDG:\u001b[0m \u001b[38;2;0;255;127m오늘의 목표!\u001b[0m\n",
      "        - 프로젝트 스타트!\n",
      "\u001b[1m\u001b[38;2;255;127;0m.   ○ 2024.09.06 Fri by PDG:\u001b[0m \u001b[38;2;0;255;127m기본 데이터 분석\u001b[0m\n",
      "\u001b[1m\u001b[94m  - ◎ matplot graph set complete\u001b[0m\n"
     ]
    }
   ],
   "source": [
    "import warnings ;warnings.filterwarnings('ignore')\n",
    "import sys ;sys.path.append(\"../../../\");sys.path.append(\"../../../../\");sys.path.append(\"../../\")\n",
    "from  CommonFunc import *\n",
    "\n",
    "Analysis_title(\"2024 생명연구자원 AI활용 경진대회 : 인공지능 활용 부문 베이스라인 코드  \")\n",
    "data_column_info(data_column_info_str=\"\"\"\n",
    "- Author : Forrest DPark\n",
    "- Description :  \n",
    "    암환자 유전체 데이터 기반 암종 분류 AI 모델 개발\n",
    "    '2024 생명연구자원 AI활용 경진대회'는 바이오 데이터를 기반으로 한 AI 기술의 문제 해결 능력을 탐구하는 것을 목표로 합니다.\n",
    "    이 대회는 바이오 분야에서 AI 활용의 저변을 확대하고, \n",
    "    복잡한 바이오 데이터를 효율적으로 분석 및 해석할 수 있는 AI 알고리즘 개발에 초점을 맞추고 있습니다.\n",
    "    본 대회의 구체적인 과제는 암환자 유전체 데이터의 변이 정보를 활용하여 암종을 분류하는 AI 모델을 개발하는 것입니다.\n",
    "    참가자들은 제공된 학습 데이터셋(암환자 유전체 변이 정보)을 사용하여 특정 변이 정보를 바탕으로 암종을 정확하게 분류할 수 있는 \n",
    "    AI 알고리즘을 개발해야 합니다.\n",
    "    이 대회의 궁극적인 목적은 바이오 데이터의 활용도를 높이고,\n",
    "    바이오 분야에서 AI 기술의 적용 가능성을 극대화하며, 인공지능 기술이 실제 바이오 의료 문제 해결에 어떻게 기여할 수 있는지 탐구하는 것입니다.\n",
    "\n",
    "- Update :\n",
    ".   ○ 2024.09.06 Fri by PDG : 기본 데이터 분석\n",
    "        - 베이스 코드 다 쳐보기 \n",
    "\n",
    "\n",
    "\"\"\")\n",
    "DataPreprocessing.plotSetting()\n"
   ]
  },
  {
   "cell_type": "code",
   "execution_count": 4,
   "metadata": {},
   "outputs": [],
   "source": [
    "import pandas as pd \n",
    "from sklearn.preprocessing import LabelEncoder,OrdinalEncoder\n",
    "import xgboost as xgb\n",
    "\n"
   ]
  },
  {
   "cell_type": "code",
   "execution_count": 8,
   "metadata": {},
   "outputs": [],
   "source": [
    "train = pd.read_csv(\"./Data/1.train.csv\")\n",
    "test = pd.read_csv(\"./Data/2.test.csv\")"
   ]
  },
  {
   "cell_type": "code",
   "execution_count": 9,
   "metadata": {},
   "outputs": [
    {
     "name": "stdout",
     "output_type": "stream",
     "text": [
      "['KIPAN' 'SARC' 'SKCM' 'KIRC' 'GBMLGG' 'STES' 'BRCA' 'THCA' 'LIHC' 'HNSC'\n",
      " 'PAAD' 'OV' 'PRAD' 'UCEC' 'LAML' 'COAD' 'ACC' 'LGG' 'LUSC' 'LUAD' 'CESC'\n",
      " 'PCPG' 'THYM' 'BLCA' 'TGCT' 'DLBC']\n"
     ]
    }
   ],
   "source": [
    "## Data Preprocessing\n",
    "# Subclass -> 범주형 -> label encoder \n",
    "print(train['SUBCLASS'].unique())\n",
    "le_subclass = LabelEncoder()\n",
    "train['SUBCLASS'] = le_subclass.fit_transform(train['SUBCLASS'])"
   ]
  },
  {
   "cell_type": "code",
   "execution_count": 11,
   "metadata": {},
   "outputs": [
    {
     "name": "stdout",
     "output_type": "stream",
     "text": [
      "26\n",
      "원래 레이블 : ACC, 변환된 숫자: 0\n",
      "원래 레이블 : BLCA, 변환된 숫자: 1\n",
      "원래 레이블 : BRCA, 변환된 숫자: 2\n",
      "원래 레이블 : CESC, 변환된 숫자: 3\n",
      "원래 레이블 : COAD, 변환된 숫자: 4\n",
      "원래 레이블 : DLBC, 변환된 숫자: 5\n",
      "원래 레이블 : GBMLGG, 변환된 숫자: 6\n",
      "원래 레이블 : HNSC, 변환된 숫자: 7\n",
      "원래 레이블 : KIPAN, 변환된 숫자: 8\n",
      "원래 레이블 : KIRC, 변환된 숫자: 9\n",
      "원래 레이블 : LAML, 변환된 숫자: 10\n",
      "원래 레이블 : LGG, 변환된 숫자: 11\n",
      "원래 레이블 : LIHC, 변환된 숫자: 12\n",
      "원래 레이블 : LUAD, 변환된 숫자: 13\n",
      "원래 레이블 : LUSC, 변환된 숫자: 14\n",
      "원래 레이블 : OV, 변환된 숫자: 15\n",
      "원래 레이블 : PAAD, 변환된 숫자: 16\n",
      "원래 레이블 : PCPG, 변환된 숫자: 17\n",
      "원래 레이블 : PRAD, 변환된 숫자: 18\n",
      "원래 레이블 : SARC, 변환된 숫자: 19\n",
      "원래 레이블 : SKCM, 변환된 숫자: 20\n",
      "원래 레이블 : STES, 변환된 숫자: 21\n",
      "원래 레이블 : TGCT, 변환된 숫자: 22\n",
      "원래 레이블 : THCA, 변환된 숫자: 23\n",
      "원래 레이블 : THYM, 변환된 숫자: 24\n",
      "원래 레이블 : UCEC, 변환된 숫자: 25\n"
     ]
    }
   ],
   "source": [
    "print(len(train['SUBCLASS'].unique()))\n",
    "train['SUBCLASS'] \n",
    "# 변환된 레이블 확인 \n",
    "for i, label in enumerate(le_subclass.classes_):\n",
    "    print(f\"원래 레이블 : {label}, 변환된 숫자: {i}\")\n",
    "    \n",
    "    "
   ]
  },
  {
   "cell_type": "code",
   "execution_count": null,
   "metadata": {},
   "outputs": [],
   "source": []
  },
  {
   "cell_type": "code",
   "execution_count": null,
   "metadata": {},
   "outputs": [],
   "source": []
  }
 ],
 "metadata": {
  "kernelspec": {
   "display_name": "base",
   "language": "python",
   "name": "python3"
  },
  "language_info": {
   "codemirror_mode": {
    "name": "ipython",
    "version": 3
   },
   "file_extension": ".py",
   "mimetype": "text/x-python",
   "name": "python",
   "nbconvert_exporter": "python",
   "pygments_lexer": "ipython3",
   "version": "3.11.7"
  }
 },
 "nbformat": 4,
 "nbformat_minor": 2
}
