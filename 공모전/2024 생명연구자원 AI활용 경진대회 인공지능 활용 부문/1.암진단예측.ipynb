{
 "cells": [
  {
   "cell_type": "code",
   "execution_count": 2,
   "metadata": {},
   "outputs": [
    {
     "name": "stdout",
     "output_type": "stream",
     "text": [
      "\u001b[1m\u001b[38;2;0;255;0m✻✻✻✻______🤖 2024 생명연구자원 AI활용 경진대회 : 인공지능 활용 부문  🤖______✻✻✻✻\u001b[0m\n",
      "\u001b[1m\u001b[38;2;255;127;0m- Author:\u001b[0m \u001b[38;2;0;255;127mForrest DPark\u001b[0m\n",
      "\u001b[1m\u001b[38;2;255;127;0m- Description:\u001b[0m \u001b[38;2;0;255;127m\u001b[0m\n",
      "\u001b[1m\u001b[38;2;255;127;0m.   ◻︎ Topic:\u001b[0m \u001b[38;2;0;255;127m암환자 유전체 데이터의 변이 정보를 활용한 암종 분류 AI 모델 개발\u001b[0m\n",
      "\u001b[1m\u001b[38;2;255;127;0m.   ◻︎ Detail:\u001b[0m \u001b[38;2;0;255;127m학습데이터로 제공되는 암환자 유전체 변이 정보 데이터를 활용하여 특정 변이 정보를 바탕으로 암종을 정확하게 분류하는 AI 알고리즘을 개발\u001b[0m\n",
      "\u001b[1m\u001b[38;2;255;127;0m.   ◻︎ Due:\u001b[0m \u001b[38;2;0;255;127m\u001b[0m\n",
      "\u001b[1m\u001b[38;2;255;127;0m.   ◻︎ Reward:\u001b[0m \u001b[38;2;0;255;127m1100만원\u001b[0m\n",
      "\u001b[1m\u001b[38;2;255;127;0m.   ◻︎ Link:\u001b[0m \u001b[38;2;0;255;127mhttps://dacon.io/competitions/official/236355/overview/description\u001b[0m\n",
      "\u001b[1m\u001b[38;2;255;127;0m.   ◻︎ DataSet Info:\u001b[0m \u001b[38;2;0;255;127m\u001b[0m\n",
      "\u001b[1m\u001b[38;2;255;127;0m.       +train.csv [파일]:\u001b[0m \u001b[38;2;0;255;127m총 6201개의 행(rows), 암환자 유전체 변이 정보 데이터 ( 유전체 관련 컬럼 4384개 )\u001b[0m\n",
      "\u001b[1m\u001b[38;2;255;127;0m.        ID:\u001b[0m \u001b[38;2;0;255;127m샘플 별 고유 ID\u001b[0m\n",
      "\u001b[1m\u001b[38;2;255;127;0m.        SUBCLASS:\u001b[0m \u001b[38;2;0;255;127m암종 (26개 존재)\u001b[0m\n",
      "\u001b[1m\u001b[38;2;255;127;0m.       + test.csv [파일]:\u001b[0m \u001b[38;2;0;255;127m총 2546개의 행(rows),암환자 유전체 변이 정보 데이터 ( 유전체 관련 컬럼 4384개, train.csv와 동일 )\u001b[0m\n",
      "\u001b[1m\u001b[38;2;255;127;0m.         ID:\u001b[0m \u001b[38;2;0;255;127m샘플 별 고유 ID\u001b[0m\n",
      "        + sample_submission.csv [파일]\n",
      "\n",
      "\u001b[1m\u001b[38;2;255;127;0m- Update:\u001b[0m \u001b[38;2;0;255;127m\u001b[0m\n",
      "\u001b[1m\u001b[38;2;255;127;0m.   ○ 2024.09.03 Mon by PDG:\u001b[0m \u001b[38;2;0;255;127m오늘의 목표!\u001b[0m\n",
      "        -\n",
      "\u001b[1m\u001b[94m  - ◎ matplot graph set complete\u001b[0m\n"
     ]
    }
   ],
   "source": [
    "import warnings ;warnings.filterwarnings('ignore')\n",
    "import sys ;sys.path.append(\"../../../\");sys.path.append(\"../../../../\");sys.path.append(\"../../\")\n",
    "from  CommonFunc import *\n",
    "\n",
    "Analysis_title(\"2024 생명연구자원 AI활용 경진대회 : 인공지능 활용 부문 \")\n",
    "data_column_info(data_column_info_str=\"\"\"\n",
    "- Author : Forrest DPark\n",
    "- Description :  \n",
    ".   ◻︎ Topic  : 암환자 유전체 데이터의 변이 정보를 활용한 암종 분류 AI 모델 개발 \n",
    ".   ◻︎ Detail : 학습데이터로 제공되는 암환자 유전체 변이 정보 데이터를 활용하여 특정 변이 정보를 바탕으로 암종을 정확하게 분류하는 AI 알고리즘을 개발        \n",
    ".   ◻︎ Due   :\n",
    ".   ◻︎ Reward :1100만원\n",
    ".   ◻︎ Link : https://dacon.io/competitions/official/236355/overview/description\n",
    ".   ◻︎ DataSet Info:\n",
    ".       +train.csv [파일] : 총 6201개의 행(rows), 암환자 유전체 변이 정보 데이터 ( 유전체 관련 컬럼 4384개 )\n",
    ".        ID : 샘플 별 고유 ID\n",
    ".        SUBCLASS : 암종 (26개 존재)\n",
    ".       + test.csv [파일] : 총 2546개의 행(rows),암환자 유전체 변이 정보 데이터 ( 유전체 관련 컬럼 4384개, train.csv와 동일 )\n",
    ".         ID : 샘플 별 고유 ID\n",
    "        + sample_submission.csv [파일]\n",
    "\n",
    "- Update :\n",
    ".   ○ 2024.09.03 Mon by PDG : 오늘의 목표! \n",
    "        -\n",
    "\n",
    "\"\"\")\n",
    "DataPreprocessing.plotSetting()\n"
   ]
  }
 ],
 "metadata": {
  "kernelspec": {
   "display_name": "base",
   "language": "python",
   "name": "python3"
  },
  "language_info": {
   "codemirror_mode": {
    "name": "ipython",
    "version": 3
   },
   "file_extension": ".py",
   "mimetype": "text/x-python",
   "name": "python",
   "nbconvert_exporter": "python",
   "pygments_lexer": "ipython3",
   "version": "3.11.7"
  }
 },
 "nbformat": 4,
 "nbformat_minor": 2
}
