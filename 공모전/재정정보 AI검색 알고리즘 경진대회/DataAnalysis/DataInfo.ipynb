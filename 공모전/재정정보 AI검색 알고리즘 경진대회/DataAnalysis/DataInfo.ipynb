{
 "cells": [
  {
   "cell_type": "markdown",
   "metadata": {},
   "source": [
    "2024.08.11 D-12\n",
    "<br><img src = \"https://www.notion.so/image/https%3A%2F%2Fprod-files-secure.s3.us-west-2.amazonaws.com%2F914ff162-e9aa-4454-80d2-30b702551154%2F37537f85-e06a-45cf-9047-814a636c19da%2FUntitled.png?table=block&id=82a62ba8-3ba0-4504-b699-c1f6ebd45329&spaceId=914ff162-e9aa-4454-80d2-30b702551154&width=1710&userId=d72aebc7-576c-4f0e-9c69-1d5d32da7874&cache=v2\" width=\"700\" height=\"300\"/><br>"
   ]
  },
  {
   "cell_type": "markdown",
   "metadata": {},
   "source": [
    "----\n",
    "#### 재정 정보 AI 검색 알고리즘 경진 대회 \n",
    "## Date : 2024.08.11 D-12\n",
    "## Author: Forrest D Park\n",
    "[배경]\n",
    "재정분야 인공지능 학습용 데이터를 활용한 자연어처리 알고리즘 개발을 위한 AI 경진대회를 개최합니다.\n",
    "이번 대회의 목표는 중앙정부 재정 정보의 검색 및 제공 편의성과 활용도를 높이는 질의 응답 알고리즘을 개발하는 것입니다.\n",
    "이 대회는 재정 데이터의 접근성과 활용도를 혁신적으로 개선하기 위해 기획되었습니다.\n",
    "방대한 양의 재정 데이터가 일반 국민과 전문가 모두에게 쉽게 접근 가능하도록 만드는 것이 목적입니다.\n",
    "\n",
    "\n",
    "[주제]\n",
    "열린재정의 중앙정부 재정 정보 검색 및 제공 편의성과 활용도를 높이는 질의 응답 AI 알고리즘 개발\n",
    "\n",
    "[설명]\n",
    "학습데이터로 제공하는 '재정 정보 질의 응답 데이터셋'과 재정 보고서, 예산 설명자료, 기획재정부 보도자료 등 다양한 재정 관련 텍스트 데이터를 활용해 주어진 질문에 대해 정확도가 높은 응답을 제시하는 자연어처리 알고리즘을 개발\n",
    "\n",
    "\n",
    "\n",
    "[주최 / 주관 / 운영]\n",
    "주최 : 한국재정정보원, 기획재정부\n",
    "주관 : 데이콘\n",
    "\n",
    "Dataset Info.\n",
    "\n",
    "train_source [폴더]\n",
    "16개의 PDF 파일\n",
    "Source에서 여러 질문-답변 쌍을 추출\n",
    "\n",
    "\n",
    "test_source [폴더]\n",
    "9개의 PDF 파일\n",
    "Source에서 여러 질문-답변 쌍을 추출하여, Inference를 위한 질문만 제공\n",
    "\n",
    "\n",
    "train.csv [파일] \n",
    "SAMPLE_ID : 샘플 별 식별 ID\n",
    "Source : 질문-답변의 원천이 되는 Source PDF 파일명\n",
    "Source_path : 질문-답변의 원천이 되는 Source PDF 파일 경로\n",
    "Question : Source로부터 추출된 질문\n",
    "Answer : Source로부터 추출된 질문에 대한 정답(답변)\n",
    "\n",
    "\n",
    "test.csv [파일]\n",
    "SAMPLE_ID : 샘플 별 식별 ID\n",
    "Source : 질문-답변의 원천이 되는 Source PDF 파일명\n",
    "Source_path : 질문-답변의 원천이 되는 Source PDF 파일 경로\n",
    "Question : Source로부터 추출된 질문\n",
    "\n",
    "\n",
    "sample_submission.csv [파일] - 제출 양식\n",
    "SAMPLE_ID : 샘플 별 식별 ID\n",
    "Answer : 질문에 대해 생성된 정답(답변)\n",
    "※ 생성된 정답 중 NULL (빈 값)이 존재하는 경우, 제출이 불가능합니다.\n",
    "\n",
    "\n",
    "\n",
    "\n",
    "\n",
    "※ 제공드리는 데이터를 엑셀로 열람하는 경우, 데이터가 비정상적으로 보이는 현상이 발생할 수 있으니 반드시 Pandas패키지와 같은 데이터툴을 이용하여 열람부탁드립니다."
   ]
  },
  {
   "cell_type": "code",
   "execution_count": 15,
   "metadata": {},
   "outputs": [],
   "source": [
    "import sys\n",
    "sys.path.append(\"../DataAnalysis/Functions/\")\n",
    "from Function import DataPreprocessing as DP\n",
    "def imd(image_address,width =500, height=300):\n",
    "    print(f'<br><img src = \"{image_address}\" width=\"{width}\" height=\"{height}\"/><br>')\n",
    "    \n",
    "\n",
    "\n"
   ]
  },
  {
   "cell_type": "code",
   "execution_count": 13,
   "metadata": {},
   "outputs": [
    {
     "name": "stdout",
     "output_type": "stream",
     "text": [
      "\u001b[1m\u001b[93m- column 수 : 5\u001b[0m\n",
      "Index(['SAMPLE_ID', 'Source', 'Source_path', 'Question', 'Answer'], dtype='object')\n",
      "\u001b[1m\u001b[93m- row 수    : 496\u001b[0m\n",
      "\u001b[1m\u001b[93m- null 수   : 0\u001b[0m\n",
      "\u001b[1m\u001b[93m- 칼럼별 데이터 중복체크\u001b[0m\n",
      "\u001b[1m\u001b[93midx.columName |\t\t\t\t |Colum Info(dtype)|** \u001b[0m\n",
      " \u001b[1m\u001b[93m----------------------------------------------------------------\u001b[0m\n",
      "\u001b[1m\u001b[93m0.[SAMPLE_ID(object)]:\t\t\u001b[0m \u001b[1m\u001b[91m496\u001b[0m \t/496 \t[uniq/raw]\n",
      "\u001b[1m\u001b[91m숫자형데이터가 아닙니다\u001b[0m\n",
      "\u001b[1m\u001b[93m1.[Source(object)]:\t\t\u001b[0m \u001b[1m\u001b[91m16\u001b[0m \t/496 \t[uniq/raw]\n",
      "\u001b[1m\u001b[91m숫자형데이터가 아닙니다\u001b[0m\n",
      "\u001b[1m\u001b[93m3.[Question(object)]:\t\t\u001b[0m \u001b[1m\u001b[91m492\u001b[0m \t/496 \t[uniq/raw]\n",
      "\u001b[1m\u001b[91m숫자형데이터가 아닙니다\u001b[0m\n",
      "\u001b[1m\u001b[93m4.[Answer(object)]:\t\t\u001b[0m \u001b[1m\u001b[91m491\u001b[0m \t/496 \t[uniq/raw]\n",
      "\u001b[1m\u001b[91m숫자형데이터가 아닙니다\u001b[0m\n",
      "\t ...etc (추가로 0개의 칼럼이 있습니다 )\n",
      "\u001b[1m\u001b[91m\t[RESULT]\u001b[0m 🙀🙀🙀🙀🙀🙀🙀🙀🙀🙀🙀🙀🙀🙀🙀🙀🙀🙀🙀🙀🙀🙀🙀🙀🙀🙀🙀🙀🙀🙀\n",
      "\u001b[1m\u001b[93m\t🟦10개이하의 값 종류를 가지는 칼럼 \u001b[0m\n",
      "\t \u001b[1m\u001b[91m총 0개\u001b[0m\n"
     ]
    },
    {
     "data": {
      "text/plain": [
       "[]"
      ]
     },
     "execution_count": 13,
     "metadata": {},
     "output_type": "execute_result"
    }
   ],
   "source": [
    "import pandas as pd \n",
    "train = pd.read_csv(\"../open/train.csv\")\n",
    "test = pd.read_csv(\"../open/test.csv\")\n",
    "DP.dataInfo(train)"
   ]
  },
  {
   "cell_type": "code",
   "execution_count": 11,
   "metadata": {},
   "outputs": [
    {
     "data": {
      "text/plain": [
       "0      2024년 중앙정부 재정체계는 예산(일반·특별회계)과 기금으로 구분되며, 2024년...\n",
       "1      2024년 중앙정부의 예산 지출은 일반회계 356.5조원, 21개 특별회계 81.7...\n",
       "2      기금은 예산과 구분되는 재정수단으로서 재정운영의 신축성을 기할 필요가 있을 때, 정...\n",
       "3      일반회계는 특정 사업 운영 및 특정 세입으로 특정 세출을 충당하는데 사용되고, 특별...\n",
       "4      2024년 총수입은 612.2조원이며, 예산수입은 395.5조원, 기금수입은 216...\n",
       "                             ...                        \n",
       "491    자치단체 보조금은 2019년 대비 2022년에 35% 증가하였고, 민간보조금은 10...\n",
       "492    한국의 재정금융안정계획은 통화량 조절과 물가안정이라는 단기적 목표에 초점을 맞추어 ...\n",
       "493    원조물자 판매대금의 효과적 활용, 참전유엔군 경비지출을 위해 우리 정부에서 대여해 ...\n",
       "494    IMF는 최근 세계 경제전망을 통해 작년 3.5%에서 올해 3%, 내년 2.9%로 ...\n",
       "495    한국의 재정금융안정계획은 통화량 조절과 물가안정이라는 단기적 목표에 초점을 맞추어 ...\n",
       "Name: Answer, Length: 496, dtype: object"
      ]
     },
     "execution_count": 11,
     "metadata": {},
     "output_type": "execute_result"
    }
   ],
   "source": [
    "train['Source']\n",
    "train['Question']\n",
    "train['Answer']"
   ]
  },
  {
   "cell_type": "code",
   "execution_count": 17,
   "metadata": {},
   "outputs": [
    {
     "name": "stdout",
     "output_type": "stream",
     "text": [
      "<br><img src = \"https://www.notion.so/image/https%3A%2F%2Fprod-files-secure.s3.us-west-2.amazonaws.com%2F914ff162-e9aa-4454-80d2-30b702551154%2F37537f85-e06a-45cf-9047-814a636c19da%2FUntitled.png?table=block&id=82a62ba8-3ba0-4504-b699-c1f6ebd45329&spaceId=914ff162-e9aa-4454-80d2-30b702551154&width=1710&userId=d72aebc7-576c-4f0e-9c69-1d5d32da7874&cache=v2\" width=\"500\" height=\"300\"/><br>\n"
     ]
    }
   ],
   "source": [
    "\n",
    "### 재정 QA 를 가지고 챗봇을 만들라는 것?\n",
    "\n",
    "imd(\"https://www.notion.so/image/https%3A%2F%2Fprod-files-secure.s3.us-west-2.amazonaws.com%2F914ff162-e9aa-4454-80d2-30b702551154%2F37537f85-e06a-45cf-9047-814a636c19da%2FUntitled.png?table=block&id=82a62ba8-3ba0-4504-b699-c1f6ebd45329&spaceId=914ff162-e9aa-4454-80d2-30b702551154&width=1710&userId=d72aebc7-576c-4f0e-9c69-1d5d32da7874&cache=v2\")"
   ]
  }
 ],
 "metadata": {
  "kernelspec": {
   "display_name": "base",
   "language": "python",
   "name": "python3"
  },
  "language_info": {
   "codemirror_mode": {
    "name": "ipython",
    "version": 3
   },
   "file_extension": ".py",
   "mimetype": "text/x-python",
   "name": "python",
   "nbconvert_exporter": "python",
   "pygments_lexer": "ipython3",
   "version": "3.11.7"
  }
 },
 "nbformat": 4,
 "nbformat_minor": 2
}
